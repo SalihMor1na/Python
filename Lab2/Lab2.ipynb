{
 "cells": [
  {
   "cell_type": "markdown",
   "metadata": {},
   "source": [
    "## Läs in fil och spara det i olika variabler \n",
    "ändra column namn "
   ]
  },
  {
   "cell_type": "code",
   "execution_count": null,
   "metadata": {},
   "outputs": [],
   "source": [
    "import pandas as pd\n",
    "import matplotlib.pyplot as plt\n",
    "\n",
    "df_svenska = pd.read_excel(\"visualiseringar\\\\riket2023_åk9_np (1).xlsx\", skiprows=8, sheet_name=\"Svenska\")\n",
    "df_engelska = pd.read_excel(\"visualiseringar\\\\riket2023_åk9_np (1).xlsx\", skiprows=8, sheet_name=\"Engelska\")\n",
    "df_matematik = pd.read_excel(\"visualiseringar\\\\riket2023_åk9_np (1).xlsx\", skiprows=8, sheet_name=\"Matematik\")\n",
    "df_Sva = pd.read_excel(\"visualiseringar\\\\riket2023_åk9_np (1).xlsx\", skiprows=8, sheet_name=\"Svenska som andraspråk\")"
   ]
  }
 ],
 "metadata": {
  "language_info": {
   "name": "python"
  }
 },
 "nbformat": 4,
 "nbformat_minor": 2
}
